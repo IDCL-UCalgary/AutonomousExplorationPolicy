{
 "cells": [
  {
   "cell_type": "code",
   "execution_count": 1,
   "metadata": {},
   "outputs": [
    {
     "name": "stderr",
     "output_type": "stream",
     "text": [
      "Episode 999 | Reward: 0.01 | Steps: 14 | Similarity: 0.95: 100%|██████████| 1000/1000 [41:13<00:00,  2.47s/it]\n"
     ]
    },
    {
     "name": "stdout",
     "output_type": "stream",
     "text": [
      "Training complete! Final metrics:\n",
      "Average reward: 0.52\n",
      "Average episode length: 12.15\n",
      "Average similarity: 0.97\n",
      "\n",
      "Evaluation metrics:\n",
      "Average reward: 0.35\n",
      "Average episode length: 11.40\n",
      "Average similarity: 0.98\n"
     ]
    }
   ],
   "source": [
    "import numpy as np\n",
    "import tensorflow as tf\n",
    "from Train_PPO import Trainer\n",
    "from agents.PPO import PPOAgent\n",
    "from environments.env import ExplorationEnv as env \n",
    "from environments.map_generator import Map_Generator as Generator\n",
    "\n",
    "def main():\n",
    "    # Set TensorFlow to use float64\n",
    "    tf.keras.backend.set_floatx('float64')\n",
    "    \n",
    "    # Define environment creator function\n",
    "    def create_env():\n",
    "        map_generator = Generator(np.random.randint(0, 100000))\n",
    "        return env(map_generator.ref_map(), action_setting=1, pher_condition=False)\n",
    "    \n",
    "    agent_params = {\n",
    "        'actor_lr': 1e-4,\n",
    "        'critic_lr': 5e-4,\n",
    "        'entropy_beta': 0.01,\n",
    "        'clip_ratio': 0.2,\n",
    "        'gamma': 0.99,\n",
    "        'lmbda': 0.95,\n",
    "        'batch_size': 64,\n",
    "        'n_epochs': 3\n",
    "    }\n",
    "    \n",
    "    # Define training parameters\n",
    "    training_params = {\n",
    "        'max_episodes': 1000,\n",
    "        'max_steps': 100,\n",
    "        'save_freq': 50,\n",
    "        'save_dir': './models',\n",
    "        'save_maps': True,\n",
    "        'maps_dir': './maps'\n",
    "    }\n",
    "    \n",
    "    # Create and run the trainer\n",
    "    trainer = Trainer(create_env, agent_params, training_params)\n",
    "    metrics = trainer.train()\n",
    "    \n",
    "    # Evaluate the agent after training\n",
    "    eval_metrics = trainer.evaluate(num_episodes=10)\n",
    "    \n",
    "    print(f\"Training complete! Final metrics:\")\n",
    "    print(f\"Average reward: {np.mean(metrics['episode_rewards'][-100:]):.2f}\")\n",
    "    print(f\"Average episode length: {np.mean(metrics['episode_lengths'][-100:]):.2f}\")\n",
    "    print(f\"Average similarity: {np.mean(metrics['episode_similarities'][-100:]):.2f}\")\n",
    "    \n",
    "    print(f\"\\nEvaluation metrics:\")\n",
    "    print(f\"Average reward: {np.mean(eval_metrics['episode_rewards']):.2f}\")\n",
    "    print(f\"Average episode length: {np.mean(eval_metrics['episode_lengths']):.2f}\")\n",
    "    print(f\"Average similarity: {np.mean(eval_metrics['episode_similarities']):.2f}\")\n",
    "\n",
    "if __name__ == \"__main__\":\n",
    "    main()"
   ]
  },
  {
   "cell_type": "code",
   "execution_count": null,
   "metadata": {},
   "outputs": [],
   "source": []
  }
 ],
 "metadata": {
  "kernelspec": {
   "display_name": "DRL101",
   "language": "python",
   "name": "python3"
  },
  "language_info": {
   "codemirror_mode": {
    "name": "ipython",
    "version": 3
   },
   "file_extension": ".py",
   "mimetype": "text/x-python",
   "name": "python",
   "nbconvert_exporter": "python",
   "pygments_lexer": "ipython3",
   "version": "3.11.8"
  }
 },
 "nbformat": 4,
 "nbformat_minor": 2
}
