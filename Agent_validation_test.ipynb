{
 "cells": [
  {
   "cell_type": "code",
   "execution_count": 1,
   "metadata": {},
   "outputs": [
    {
     "name": "stderr",
     "output_type": "stream",
     "text": [
      "  0%|          | 0/1000 [00:00<?, ?it/s]\n"
     ]
    },
    {
     "ename": "AttributeError",
     "evalue": "'numpy.ndarray' object has no attribute 'action_setting'",
     "output_type": "error",
     "traceback": [
      "\u001b[0;31m---------------------------------------------------------------------------\u001b[0m",
      "\u001b[0;31mAttributeError\u001b[0m                            Traceback (most recent call last)",
      "Cell \u001b[0;32mIn[1], line 57\u001b[0m\n\u001b[1;32m     54\u001b[0m     \u001b[38;5;28mprint\u001b[39m(\u001b[38;5;124mf\u001b[39m\u001b[38;5;124m\"\u001b[39m\u001b[38;5;124mAverage similarity: \u001b[39m\u001b[38;5;132;01m{\u001b[39;00mnp\u001b[38;5;241m.\u001b[39mmean(eval_metrics[\u001b[38;5;124m'\u001b[39m\u001b[38;5;124mepisode_similarities\u001b[39m\u001b[38;5;124m'\u001b[39m])\u001b[38;5;132;01m:\u001b[39;00m\u001b[38;5;124m.2f\u001b[39m\u001b[38;5;132;01m}\u001b[39;00m\u001b[38;5;124m\"\u001b[39m)\n\u001b[1;32m     56\u001b[0m \u001b[38;5;28;01mif\u001b[39;00m \u001b[38;5;18m__name__\u001b[39m \u001b[38;5;241m==\u001b[39m \u001b[38;5;124m\"\u001b[39m\u001b[38;5;124m__main__\u001b[39m\u001b[38;5;124m\"\u001b[39m:\n\u001b[0;32m---> 57\u001b[0m     main()\n",
      "Cell \u001b[0;32mIn[1], line 41\u001b[0m, in \u001b[0;36mmain\u001b[0;34m()\u001b[0m\n\u001b[1;32m     39\u001b[0m \u001b[38;5;66;03m# Create and run the trainer\u001b[39;00m\n\u001b[1;32m     40\u001b[0m trainer \u001b[38;5;241m=\u001b[39m Trainer(create_env, agent_params, training_params)\n\u001b[0;32m---> 41\u001b[0m metrics \u001b[38;5;241m=\u001b[39m trainer\u001b[38;5;241m.\u001b[39mtrain()\n\u001b[1;32m     43\u001b[0m \u001b[38;5;66;03m# Evaluate the agent after training\u001b[39;00m\n\u001b[1;32m     44\u001b[0m eval_metrics \u001b[38;5;241m=\u001b[39m trainer\u001b[38;5;241m.\u001b[39mevaluate(num_episodes\u001b[38;5;241m=\u001b[39m\u001b[38;5;241m10\u001b[39m)\n",
      "File \u001b[0;32m~/AutonomousExplorationPolicy/Train_PPO.py:133\u001b[0m, in \u001b[0;36mTrainer.train\u001b[0;34m(self)\u001b[0m\n\u001b[1;32m    127\u001b[0m action_history\u001b[38;5;241m.\u001b[39mappend(action)\n\u001b[1;32m    129\u001b[0m \u001b[38;5;66;03m# next_state, x, m, localx, localy, done, reward, plotinfo, pher_map = self.env.step(\u001b[39;00m\n\u001b[1;32m    130\u001b[0m \u001b[38;5;66;03m#     action, x, m, localx, localy, pher_map\u001b[39;00m\n\u001b[1;32m    131\u001b[0m \u001b[38;5;66;03m# )\u001b[39;00m\n\u001b[0;32m--> 133\u001b[0m next_state, reward, done, info \u001b[38;5;241m=\u001b[39m \u001b[38;5;28mself\u001b[39m\u001b[38;5;241m.\u001b[39menv\u001b[38;5;241m.\u001b[39mstep(state, action, x, m, localx, localy, pher_map)\n\u001b[1;32m    135\u001b[0m x \u001b[38;5;241m=\u001b[39m info[\u001b[38;5;124m'\u001b[39m\u001b[38;5;124mrobot_position\u001b[39m\u001b[38;5;124m'\u001b[39m]\n\u001b[1;32m    136\u001b[0m m \u001b[38;5;241m=\u001b[39m info[\u001b[38;5;124m'\u001b[39m\u001b[38;5;124mmap\u001b[39m\u001b[38;5;124m'\u001b[39m]\n",
      "File \u001b[0;32m~/AutonomousExplorationPolicy/environments/env.py:144\u001b[0m, in \u001b[0;36mExplorationEnv.step\u001b[0;34m(self, state, action, x, m, localx, localy, pher_map)\u001b[0m\n\u001b[1;32m    142\u001b[0m done \u001b[38;5;241m=\u001b[39m \u001b[38;5;28;01mFalse\u001b[39;00m\n\u001b[1;32m    143\u001b[0m r \u001b[38;5;241m=\u001b[39m \u001b[38;5;241m0\u001b[39m  \n\u001b[0;32m--> 144\u001b[0m goal , x_frontiers , y_frontiers \u001b[38;5;241m=\u001b[39m \u001b[38;5;28mself\u001b[39m\u001b[38;5;241m.\u001b[39mexploration_strategy\u001b[38;5;241m.\u001b[39mselect_target(state, action, x[\u001b[38;5;241m0\u001b[39m], m, pher_map \u001b[38;5;28;01mif\u001b[39;00m \u001b[38;5;28mself\u001b[39m\u001b[38;5;241m.\u001b[39muse_pheromones \u001b[38;5;28;01melse\u001b[39;00m \u001b[38;5;28;01mNone\u001b[39;00m)\n\u001b[1;32m    146\u001b[0m dumy_var \u001b[38;5;241m=\u001b[39m [\u001b[38;5;28mint\u001b[39m(x[\u001b[38;5;241m0\u001b[39m][\u001b[38;5;241m0\u001b[39m]), \u001b[38;5;28mint\u001b[39m(x[\u001b[38;5;241m0\u001b[39m][\u001b[38;5;241m1\u001b[39m]), \u001b[38;5;28mint\u001b[39m(x[\u001b[38;5;241m0\u001b[39m][\u001b[38;5;241m2\u001b[39m])]\n\u001b[1;32m    148\u001b[0m \u001b[38;5;66;03m# This part should be replaced by the trajectory_generation.py\u001b[39;00m\n",
      "File \u001b[0;32m~/AutonomousExplorationPolicy/environments/exploration.py:58\u001b[0m, in \u001b[0;36mRLExplorationStrategy.select_target\u001b[0;34m(self, state, action, robot_position, map_data, pheromone_map)\u001b[0m\n\u001b[1;32m     52\u001b[0m \u001b[38;5;28;01mdef\u001b[39;00m \u001b[38;5;21mselect_target\u001b[39m(\u001b[38;5;28mself\u001b[39m, state: np\u001b[38;5;241m.\u001b[39mndarray, action: \u001b[38;5;28mint\u001b[39m, robot_position: np\u001b[38;5;241m.\u001b[39mndarray, \n\u001b[1;32m     53\u001b[0m                  map_data: np\u001b[38;5;241m.\u001b[39mndarray, pheromone_map: Optional[np\u001b[38;5;241m.\u001b[39mndarray] \u001b[38;5;241m=\u001b[39m \u001b[38;5;28;01mNone\u001b[39;00m) \u001b[38;5;241m-\u001b[39m\u001b[38;5;241m>\u001b[39m Tuple[List[\u001b[38;5;28mint\u001b[39m], List[\u001b[38;5;28mint\u001b[39m], List[\u001b[38;5;28mint\u001b[39m]]:\n\u001b[1;32m     54\u001b[0m     \u001b[38;5;66;03m# if self.agent is None:\u001b[39;00m\n\u001b[1;32m     55\u001b[0m     \u001b[38;5;66;03m#     raise ValueError(\"Agent not set for RLExplorationStrategy\")\u001b[39;00m\n\u001b[1;32m     56\u001b[0m     \n\u001b[1;32m     57\u001b[0m     \u001b[38;5;66;03m# action = self.agent.act(state)\u001b[39;00m\n\u001b[0;32m---> 58\u001b[0m     \u001b[38;5;28;01mif\u001b[39;00m \u001b[38;5;28mself\u001b[39m\u001b[38;5;241m.\u001b[39maction_setting \u001b[38;5;241m==\u001b[39m \u001b[38;5;241m1\u001b[39m:\n\u001b[1;32m     59\u001b[0m         x_frontiers, y_frontiers \u001b[38;5;241m=\u001b[39m frontier_space(map_data, \u001b[38;5;28mself\u001b[39m\u001b[38;5;241m.\u001b[39mnum_of_clusters, robot_position)\n\u001b[1;32m     60\u001b[0m         distances \u001b[38;5;241m=\u001b[39m np\u001b[38;5;241m.\u001b[39msqrt(\n\u001b[1;32m     61\u001b[0m             (robot_position[\u001b[38;5;241m0\u001b[39m] \u001b[38;5;241m-\u001b[39m y_frontiers)\u001b[38;5;241m*\u001b[39m\u001b[38;5;241m*\u001b[39m\u001b[38;5;241m2\u001b[39m \u001b[38;5;241m+\u001b[39m \n\u001b[1;32m     62\u001b[0m             (robot_position[\u001b[38;5;241m1\u001b[39m] \u001b[38;5;241m-\u001b[39m x_frontiers)\u001b[38;5;241m*\u001b[39m\u001b[38;5;241m*\u001b[39m\u001b[38;5;241m2\u001b[39m\n\u001b[1;32m     63\u001b[0m         )\n",
      "\u001b[0;31mAttributeError\u001b[0m: 'numpy.ndarray' object has no attribute 'action_setting'"
     ]
    }
   ],
   "source": [
    "import numpy as np\n",
    "import tensorflow as tf\n",
    "from Train_PPO import Trainer\n",
    "from agents.PPO import PPOAgent\n",
    "from environments.env import ExplorationEnv as env \n",
    "from environments.exploration import RLExplorationStrategy\n",
    "from environments.map_generator import Map_Generator as Generator\n",
    "\n",
    "def main():\n",
    "    # Set TensorFlow to use float64\n",
    "    tf.keras.backend.set_floatx('float64')\n",
    "    \n",
    "    # Define environment creator function\n",
    "    def create_env():\n",
    "        map_generator = Generator(np.random.randint(0, 100000))\n",
    "        return env(map_generator.ref_map(), action_setting=1, use_pheromones=False, number_of_robots=1 , exploration_strategy=RLExplorationStrategy(1,False))\n",
    "    \n",
    "    agent_params = {\n",
    "        'actor_lr': 1e-4,\n",
    "        'critic_lr': 5e-4,\n",
    "        'entropy_beta': 0.01,\n",
    "        'clip_ratio': 0.2,\n",
    "        'gamma': 0.99,\n",
    "        'lmbda': 0.95,\n",
    "        'batch_size': 64,\n",
    "        'n_epochs': 3\n",
    "    }\n",
    "    \n",
    "    # Define training parameters\n",
    "    training_params = {\n",
    "        'max_episodes': 1000,\n",
    "        'max_steps': 100,\n",
    "        'save_freq': 50,\n",
    "        'save_dir': './models',\n",
    "        'save_maps': True,\n",
    "        'maps_dir': './maps'\n",
    "    }\n",
    "    \n",
    "    # Create and run the trainer\n",
    "    trainer = Trainer(create_env, agent_params, training_params)\n",
    "    metrics = trainer.train()\n",
    "    \n",
    "    # Evaluate the agent after training\n",
    "    eval_metrics = trainer.evaluate(num_episodes=10)\n",
    "    \n",
    "    print(f\"Training complete! Final metrics:\")\n",
    "    print(f\"Average reward: {np.mean(metrics['episode_rewards'][-100:]):.2f}\")\n",
    "    print(f\"Average episode length: {np.mean(metrics['episode_lengths'][-100:]):.2f}\")\n",
    "    print(f\"Average similarity: {np.mean(metrics['episode_similarities'][-100:]):.2f}\")\n",
    "    \n",
    "    print(f\"\\nEvaluation metrics:\")\n",
    "    print(f\"Average reward: {np.mean(eval_metrics['episode_rewards']):.2f}\")\n",
    "    print(f\"Average episode length: {np.mean(eval_metrics['episode_lengths']):.2f}\")\n",
    "    print(f\"Average similarity: {np.mean(eval_metrics['episode_similarities']):.2f}\")\n",
    "\n",
    "if __name__ == \"__main__\":\n",
    "    main()"
   ]
  },
  {
   "cell_type": "code",
   "execution_count": null,
   "metadata": {},
   "outputs": [],
   "source": []
  }
 ],
 "metadata": {
  "kernelspec": {
   "display_name": "DRL101",
   "language": "python",
   "name": "python3"
  },
  "language_info": {
   "codemirror_mode": {
    "name": "ipython",
    "version": 3
   },
   "file_extension": ".py",
   "mimetype": "text/x-python",
   "name": "python",
   "nbconvert_exporter": "python",
   "pygments_lexer": "ipython3",
   "version": "3.11.8"
  }
 },
 "nbformat": 4,
 "nbformat_minor": 2
}
